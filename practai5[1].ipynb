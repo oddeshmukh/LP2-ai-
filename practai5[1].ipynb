{
 "cells": [
  {
   "cell_type": "code",
   "execution_count": null,
   "id": "f4694150",
   "metadata": {},
   "outputs": [
    {
     "name": "stdout",
     "output_type": "stream",
     "text": [
      "hi I'm chatbot, how can I help you today?\n",
      "chatbot: Hello there! How are you doing today?\n",
      "chatbot: Here are some top models.\n"
     ]
    }
   ],
   "source": [
    "def chatbot():\n",
    "    print(\"hi I'm chatbot, how can I help you today?\")\n",
    "    while True:\n",
    "        user_input = input(\"you: \")\n",
    "        if user_input.lower() == \"bye\":\n",
    "            print(\"chatbot: Bye! Have a great day.\")\n",
    "            break\n",
    "        elif user_input.lower() == \"hello\":\n",
    "            print(\"chatbot: Hello there! How are you doing today?\")\n",
    "        elif user_input.lower() == \"how are you\":\n",
    "            print(\"chatbot: I'm doing great, thanks for asking. What would you like to see?\")\n",
    "        elif user_input.lower() == \"phone\":\n",
    "            print(\"chatbot: Which brand?\")\n",
    "        elif user_input.lower() == \"apple\":\n",
    "            print(\"chatbot: OK. What is your budget?\")\n",
    "        elif user_input.lower() == \"100000\":\n",
    "            print(\"chatbot: OK.\")\n",
    "        elif user_input.lower() == \"ok\":\n",
    "            print(\"chatbot: Here are some top models.\")\n",
    "        elif user_input.lower() == \"thank you\":\n",
    "            print(\"chatbot: You're welcome!\")\n",
    "            print(\"chatbot: See you again.\")\n",
    "        else:\n",
    "            print(\"chatbot: I didn't understand what you said. Can you please rephrase?\")\n",
    "\n",
    "chatbot()"
   ]
  },
  {
   "cell_type": "code",
   "execution_count": null,
   "id": "c9df3b6c",
   "metadata": {},
   "outputs": [],
   "source": []
  }
 ],
 "metadata": {
  "kernelspec": {
   "display_name": "Python 3",
   "language": "python",
   "name": "python3"
  },
  "language_info": {
   "codemirror_mode": {
    "name": "ipython",
    "version": 3
   },
   "file_extension": ".py",
   "mimetype": "text/x-python",
   "name": "python",
   "nbconvert_exporter": "python",
   "pygments_lexer": "ipython3",
   "version": "3.13.2"
  }
 },
 "nbformat": 4,
 "nbformat_minor": 5
}
